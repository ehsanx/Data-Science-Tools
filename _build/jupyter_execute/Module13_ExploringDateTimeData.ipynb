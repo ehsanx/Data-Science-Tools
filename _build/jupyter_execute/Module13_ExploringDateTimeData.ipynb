{
 "cells": [
  {
   "cell_type": "markdown",
   "metadata": {
    "id": "Fad8IEcNOasg"
   },
   "source": [
    "# Module 13: Exploring Date/Time Data with datetime\n",
    "\n",
    "\n"
   ]
  },
  {
   "cell_type": "code",
   "execution_count": 1,
   "metadata": {
    "colab": {
     "base_uri": "https://localhost:8080/"
    },
    "executionInfo": {
     "elapsed": 5,
     "status": "ok",
     "timestamp": 1723097451539,
     "user": {
      "displayName": "Eric Li",
      "userId": "13636052086902037493"
     },
     "user_tz": 420
    },
    "id": "lXAlrMtiNKI3",
    "outputId": "738e136e-3091-47f4-c3a2-4830052de230"
   },
   "outputs": [
    {
     "name": "stdout",
     "output_type": "stream",
     "text": [
      "today is  2024-08-12\n",
      "day: 12\n",
      "month: 8\n",
      "year: 2024\n"
     ]
    }
   ],
   "source": [
    "from datetime import date\n",
    "\n",
    "today = date.today()\n",
    "print(\"today is \" , today)\n",
    "\n",
    "print(\"day:\", today.day)\n",
    "print(\"month:\", today.month)\n",
    "print(\"year:\", today.year)\n",
    "\n"
   ]
  },
  {
   "cell_type": "markdown",
   "metadata": {
    "id": "nWeg4ibPUSRM"
   },
   "source": [
    "However, sometimes we may not always want our dates to be represented by integers.\n",
    "\n",
    "\n",
    "https://docs.python.org/3/library/datetime.html#strftime-and-strptime-format-codes"
   ]
  },
  {
   "cell_type": "code",
   "execution_count": 2,
   "metadata": {
    "colab": {
     "base_uri": "https://localhost:8080/",
     "height": 35
    },
    "executionInfo": {
     "elapsed": 218,
     "status": "ok",
     "timestamp": 1723097455993,
     "user": {
      "displayName": "Eric Li",
      "userId": "13636052086902037493"
     },
     "user_tz": 420
    },
    "id": "jDiOCpENOagC",
    "outputId": "8fc3860b-860c-44dc-b4a9-9feeac03550b"
   },
   "outputs": [
    {
     "data": {
      "text/plain": [
       "'Monday 12 August 2024'"
      ]
     },
     "execution_count": 2,
     "metadata": {},
     "output_type": "execute_result"
    }
   ],
   "source": [
    "today.strftime(\"%A %d %B %Y\")"
   ]
  },
  {
   "cell_type": "markdown",
   "metadata": {
    "id": "nlTZ6mK-b8WY"
   },
   "source": [
    "You can see that the output we've given is the name of the day (in full English), the day (as a number), the name of the month (in full English) and the value of the current year (as a number).\n",
    "\n",
    "We can also experiment with different format codes for our `strftime` method. Let's see what happens in we were to use all lowercase values.\n",
    "\n",
    "\n",
    "\n"
   ]
  },
  {
   "cell_type": "code",
   "execution_count": 3,
   "metadata": {
    "colab": {
     "base_uri": "https://localhost:8080/",
     "height": 35
    },
    "executionInfo": {
     "elapsed": 209,
     "status": "ok",
     "timestamp": 1723097458127,
     "user": {
      "displayName": "Eric Li",
      "userId": "13636052086902037493"
     },
     "user_tz": 420
    },
    "id": "15stCOjjdNEX",
    "outputId": "9af7f7c9-d73b-4840-b024-ff33d4f29c7e"
   },
   "outputs": [
    {
     "data": {
      "text/plain": [
       "'Mon 12 Aug 24'"
      ]
     },
     "execution_count": 3,
     "metadata": {},
     "output_type": "execute_result"
    }
   ],
   "source": [
    "today.strftime(\"%a %d %b %y\")"
   ]
  },
  {
   "cell_type": "markdown",
   "metadata": {
    "id": "WrvPuYvhcRgU"
   },
   "source": [
    "## Working with Strings\n",
    "\n",
    "As all of these date time values are strings, we can add all sorts of things we wanted inbetween them.\n",
    "\n",
    "Let's say I wanted to add some commas and some English inbetween the output I'm producing."
   ]
  },
  {
   "cell_type": "code",
   "execution_count": 4,
   "metadata": {
    "colab": {
     "base_uri": "https://localhost:8080/",
     "height": 35
    },
    "executionInfo": {
     "elapsed": 192,
     "status": "ok",
     "timestamp": 1723097482955,
     "user": {
      "displayName": "Eric Li",
      "userId": "13636052086902037493"
     },
     "user_tz": 420
    },
    "id": "bEsWCzknb4_R",
    "outputId": "3cc8f440-9356-4d1e-d9bb-f00574e6fe7d"
   },
   "outputs": [
    {
     "data": {
      "text/plain": [
       "'Monday, 12th of August 2024'"
      ]
     },
     "execution_count": 4,
     "metadata": {},
     "output_type": "execute_result"
    }
   ],
   "source": [
    "today.strftime(\"%A, %dth of %B %Y\")"
   ]
  },
  {
   "cell_type": "markdown",
   "metadata": {
    "id": "anUrksz9dTth"
   },
   "source": [
    "## Manipulating Date Attributes via Basic Arithmetic\n",
    "\n",
    "Using arithmetic with Python's `datetime` module allows for the manipulation and calculation of dates and times with ease.\n",
    "\n",
    "By importing the `datetime` module, you can perform operations like adding or subtracting days, hours, minutes, or even seconds from a given date and time.\n",
    "\n",
    "This feature is great for tasks like scheduling, logging events, and managing time-based data."
   ]
  },
  {
   "cell_type": "markdown",
   "metadata": {
    "id": "5VLZTf1-4YI3"
   },
   "source": [
    "For example, let's take a look at how we can look one year into advance.\n",
    "\n",
    "We use the `today` object that was created earlier, and call the `replace` function.\n",
    "\n",
    "The `replace` function essentially gives the ability to override the current value.\n",
    "\n",
    "Inside of the brackets, we can specify what we want to replace with. In this case, we are replacing the year value, by taking the `.year` attribute of the `today` variable, and adding 1 to it.\n",
    "\n",
    "This should take us into the next year."
   ]
  },
  {
   "cell_type": "code",
   "execution_count": 5,
   "metadata": {
    "colab": {
     "base_uri": "https://localhost:8080/"
    },
    "executionInfo": {
     "elapsed": 167,
     "status": "ok",
     "timestamp": 1723097487904,
     "user": {
      "displayName": "Eric Li",
      "userId": "13636052086902037493"
     },
     "user_tz": 420
    },
    "id": "DVL865gmc169",
    "outputId": "b00ef787-60e4-43f8-b021-00b85e19c071"
   },
   "outputs": [
    {
     "data": {
      "text/plain": [
       "datetime.date(2025, 8, 12)"
      ]
     },
     "execution_count": 5,
     "metadata": {},
     "output_type": "execute_result"
    }
   ],
   "source": [
    "next_year = today.replace(year = today.year + 1)\n",
    "next_year"
   ]
  },
  {
   "cell_type": "markdown",
   "metadata": {
    "id": "gijP4CWcdoSv"
   },
   "source": [
    "Moreover, we can also obtain the difference between two dates, simply by using subtraction.\n",
    "\n",
    "For example, let's examine the difference between the `today` variable and the `next_year` variable.\n",
    "\n",
    "We are able to obtain the difference by using the abs() function, which takes the absolute value of whatever is in the brackets.\n",
    "\n",
    "From there, assuming that we save the difference value in the form of a variable, we can take that variable and extract the `.days` property.\n",
    "\n",
    "From the following example, we aim to see the number of days are inbetween two variables, `today` and `next_year`."
   ]
  },
  {
   "cell_type": "code",
   "execution_count": 6,
   "metadata": {
    "colab": {
     "base_uri": "https://localhost:8080/"
    },
    "executionInfo": {
     "elapsed": 174,
     "status": "ok",
     "timestamp": 1723097490307,
     "user": {
      "displayName": "Eric Li",
      "userId": "13636052086902037493"
     },
     "user_tz": 420
    },
    "id": "2ZdvhIe5dcqU",
    "outputId": "04619ffd-fc55-44d0-9159-0780088cdd3c"
   },
   "outputs": [
    {
     "name": "stdout",
     "output_type": "stream",
     "text": [
      "There are 365 days between 2024-08-12 and 2025-08-12\n"
     ]
    }
   ],
   "source": [
    "difference  = abs(next_year - today)\n",
    "\n",
    "print(\"There are\", difference.days, \"days between\", today, \"and\", next_year)"
   ]
  },
  {
   "cell_type": "markdown",
   "metadata": {
    "id": "gDwaQcy68F7C"
   },
   "source": [
    "The result is what we expected, which is 365 days."
   ]
  },
  {
   "cell_type": "markdown",
   "metadata": {
    "id": "YLmAxQKoeCER"
   },
   "source": [
    "## Loading Date Using Attributes\n",
    "\n",
    "To create a date value from scratch, we use the `date()` function with the following format of arguments: `date(year, month, day)`.\n",
    "\n",
    "Note that currently, we use numbers to represent the value of each year, month or day argument."
   ]
  },
  {
   "cell_type": "code",
   "execution_count": 7,
   "metadata": {
    "colab": {
     "base_uri": "https://localhost:8080/"
    },
    "executionInfo": {
     "elapsed": 211,
     "status": "ok",
     "timestamp": 1723097491419,
     "user": {
      "displayName": "Eric Li",
      "userId": "13636052086902037493"
     },
     "user_tz": 420
    },
    "id": "bDUn-RRJduBQ",
    "outputId": "3072bf97-8bcf-4827-c5d9-4cdec569f861"
   },
   "outputs": [
    {
     "name": "stdout",
     "output_type": "stream",
     "text": [
      "David Cox was born on 1924-07-15\n"
     ]
    }
   ],
   "source": [
    "DavidCox = date(1924, 7, 15)\n",
    "print(\"David Cox was born on\", DavidCox)"
   ]
  },
  {
   "cell_type": "markdown",
   "metadata": {
    "id": "Jt2NzepTe7d8"
   },
   "source": [
    "Depending on specific situations, it may be that the date value provided to us in the form of a long string, rather than individual numbers we can assign to each of the three arguments.\n",
    "\n",
    "How can we represent this date data using strings instead?\n",
    "\n",
    "We can use the `date.fromisoformat()` function.\n",
    "\n",
    "\n"
   ]
  },
  {
   "cell_type": "code",
   "execution_count": 8,
   "metadata": {
    "colab": {
     "base_uri": "https://localhost:8080/"
    },
    "executionInfo": {
     "elapsed": 203,
     "status": "ok",
     "timestamp": 1723097492618,
     "user": {
      "displayName": "Eric Li",
      "userId": "13636052086902037493"
     },
     "user_tz": 420
    },
    "id": "5im2X6sBe4MJ",
    "outputId": "6e01b452-c996-4f4e-dc41-2ee5274f79f7"
   },
   "outputs": [
    {
     "name": "stdout",
     "output_type": "stream",
     "text": [
      "David Cox was born on 1924-07-15\n"
     ]
    }
   ],
   "source": [
    "DavidCox = date.fromisoformat(\"1924-07-15\")\n",
    "print(\"David Cox was born on\", DavidCox)"
   ]
  },
  {
   "cell_type": "markdown",
   "metadata": {
    "id": "VHcr816Hf3V9"
   },
   "source": [
    "Notice that for single-digit parameter values (like July as shown in the example), we need to append a 0 at the beginning.\n",
    "\n",
    "This is just simply due to how the `date.fromisoformat()` function was defined.\n",
    "\n",
    "If we don't include it, we will get an error saying \"Invalid isoformat string\", as shown in the incorrect example below."
   ]
  },
  {
   "cell_type": "code",
   "execution_count": 9,
   "metadata": {
    "colab": {
     "base_uri": "https://localhost:8080/",
     "height": 159
    },
    "executionInfo": {
     "elapsed": 223,
     "status": "error",
     "timestamp": 1723097493774,
     "user": {
      "displayName": "Eric Li",
      "userId": "13636052086902037493"
     },
     "user_tz": 420
    },
    "id": "F9hbRLPkfyex",
    "outputId": "78ea194a-fb59-48e5-a0fa-c665acf30179"
   },
   "outputs": [
    {
     "ename": "ValueError",
     "evalue": "Invalid isoformat string: '1924-7-15'",
     "output_type": "error",
     "traceback": [
      "\u001b[1;31m---------------------------------------------------------------------------\u001b[0m",
      "\u001b[1;31mValueError\u001b[0m                                Traceback (most recent call last)",
      "Cell \u001b[1;32mIn [9], line 2\u001b[0m\n\u001b[0;32m      1\u001b[0m \u001b[38;5;66;03m# INCORRECT\u001b[39;00m\n\u001b[1;32m----> 2\u001b[0m DavidCox \u001b[38;5;241m=\u001b[39m \u001b[43mdate\u001b[49m\u001b[38;5;241;43m.\u001b[39;49m\u001b[43mfromisoformat\u001b[49m\u001b[43m(\u001b[49m\u001b[38;5;124;43m\"\u001b[39;49m\u001b[38;5;124;43m1924-7-15\u001b[39;49m\u001b[38;5;124;43m\"\u001b[39;49m\u001b[43m)\u001b[49m\n",
      "\u001b[1;31mValueError\u001b[0m: Invalid isoformat string: '1924-7-15'"
     ]
    }
   ],
   "source": [
    "# INCORRECT\n",
    "DavidCox = date.fromisoformat(\"1924-7-15\")"
   ]
  },
  {
   "cell_type": "markdown",
   "metadata": {
    "id": "mMi-NTPuggGa"
   },
   "source": [
    "## Obtaining More Information from Date\n",
    "\n",
    "We have seen how to get data from a date, in the form of numbers.\n",
    "\n",
    "How can we obtain information such as the weekday, which is expressed in English form?"
   ]
  },
  {
   "cell_type": "code",
   "execution_count": 10,
   "metadata": {
    "colab": {
     "base_uri": "https://localhost:8080/"
    },
    "executionInfo": {
     "elapsed": 217,
     "status": "ok",
     "timestamp": 1723097532908,
     "user": {
      "displayName": "Eric Li",
      "userId": "13636052086902037493"
     },
     "user_tz": 420
    },
    "id": "Kc0wS6M4gqaS",
    "outputId": "ecd0a040-9aaa-4169-ca6b-62310002d3c2"
   },
   "outputs": [
    {
     "data": {
      "text/plain": [
       "1"
      ]
     },
     "execution_count": 10,
     "metadata": {},
     "output_type": "execute_result"
    }
   ],
   "source": [
    "DavidCox.weekday()"
   ]
  },
  {
   "cell_type": "markdown",
   "metadata": {
    "id": "LH4KdGSuhLZU"
   },
   "source": [
    "The initial gut reaction upon seeing this is thinking that David Cox's birthday is on a Monday.\n",
    "\n",
    "But as a matter of fact, the `weekday()` method actually starts counting from 0, which represents Monday.\n",
    "\n",
    "Therefore, a value of 1 would mean that his birthday actually fell on a Tuesday.\n",
    "\n",
    "You can verify this with https://www.onthisday.com/date/1924/july/15"
   ]
  },
  {
   "cell_type": "markdown",
   "metadata": {
    "id": "Tro83BDBnghI"
   },
   "source": [
    "## Working with datetime Objects\n",
    "\n",
    "Previously we were only working with date objects, but now let's throw the time attribute in there as well."
   ]
  },
  {
   "cell_type": "code",
   "execution_count": 11,
   "metadata": {
    "colab": {
     "base_uri": "https://localhost:8080/"
    },
    "executionInfo": {
     "elapsed": 183,
     "status": "ok",
     "timestamp": 1723097811995,
     "user": {
      "displayName": "Eric Li",
      "userId": "13636052086902037493"
     },
     "user_tz": 420
    },
    "id": "UEqC2SHBg0nP",
    "outputId": "994cf1fc-1073-4cd1-afee-3295a0d03517"
   },
   "outputs": [
    {
     "name": "stdout",
     "output_type": "stream",
     "text": [
      "Right now, it's 2024-08-12 22:12:05.028281\n"
     ]
    }
   ],
   "source": [
    "from datetime import datetime\n",
    "\n",
    "now = datetime.now()\n",
    "print(\"Right now, it's\" , now)"
   ]
  },
  {
   "cell_type": "code",
   "execution_count": 12,
   "metadata": {
    "colab": {
     "base_uri": "https://localhost:8080/"
    },
    "executionInfo": {
     "elapsed": 183,
     "status": "ok",
     "timestamp": 1723097956029,
     "user": {
      "displayName": "Eric Li",
      "userId": "13636052086902037493"
     },
     "user_tz": 420
    },
    "id": "rOMD0R3QoWL2",
    "outputId": "e2510390-61ed-4b8b-c2f2-8e04b6972a28"
   },
   "outputs": [
    {
     "name": "stdout",
     "output_type": "stream",
     "text": [
      "it's the 12 minute of the 22 hour, of the 12 day of the 8 month\n"
     ]
    }
   ],
   "source": [
    "print(\"it's the {} minute of the {} hour, of the {} day of the {} month\".format(\n",
    "      now.minute,\n",
    "      now.hour,\n",
    "      now.day,\n",
    "      now.month\n",
    "))"
   ]
  },
  {
   "cell_type": "markdown",
   "metadata": {
    "id": "AkYK27RDpK2q"
   },
   "source": [
    "We can make our datetime object much more informative, through the form of strings, in combination with the `fromisoformat` function.\n",
    "\n",
    "Note that UTC+4 is Moscow standard time."
   ]
  },
  {
   "cell_type": "code",
   "execution_count": 13,
   "metadata": {
    "colab": {
     "base_uri": "https://localhost:8080/"
    },
    "executionInfo": {
     "elapsed": 183,
     "status": "ok",
     "timestamp": 1723098234908,
     "user": {
      "displayName": "Eric Li",
      "userId": "13636052086902037493"
     },
     "user_tz": 420
    },
    "id": "G8RZJPMBo9Lb",
    "outputId": "153bf8e7-fb9b-4dd3-a86c-ed36110039b7"
   },
   "outputs": [
    {
     "name": "stdout",
     "output_type": "stream",
     "text": [
      "Chernobyl occured on 1986-04-26 01:23:40+04:00\n"
     ]
    }
   ],
   "source": [
    "chernobyl = datetime.fromisoformat(\"1986-04-26 01:23:40:000+04:00\")\n",
    "print(\"Chernobyl occured on\",chernobyl)"
   ]
  },
  {
   "cell_type": "markdown",
   "metadata": {
    "id": "Yz7dM80Vqm7N"
   },
   "source": [
    "However, we can make this even more informative by using some format codes."
   ]
  },
  {
   "cell_type": "code",
   "execution_count": 14,
   "metadata": {
    "colab": {
     "base_uri": "https://localhost:8080/"
    },
    "executionInfo": {
     "elapsed": 189,
     "status": "ok",
     "timestamp": 1723098464251,
     "user": {
      "displayName": "Eric Li",
      "userId": "13636052086902037493"
     },
     "user_tz": 420
    },
    "id": "Y7gT_ldsqEZf",
    "outputId": "04e8e621-0558-4315-cf0b-cf3d5f15020b"
   },
   "outputs": [
    {
     "name": "stdout",
     "output_type": "stream",
     "text": [
      "Chernobyl occured on Saturday, 26th of April 1986 at 01:23:40\n"
     ]
    }
   ],
   "source": [
    "print(chernobyl.strftime(\"Chernobyl occured on %A, %dth of %B %Y at %H:%M:%S\"))"
   ]
  },
  {
   "cell_type": "markdown",
   "metadata": {
    "id": "UpKb23ktrCqw"
   },
   "source": [
    "We can get a bit more detailed than this, by representing time information using just `%X` and also including timezone information via `%Z`. In this case, MSD would represent Moscow Daylight Time."
   ]
  },
  {
   "cell_type": "code",
   "execution_count": 15,
   "metadata": {
    "colab": {
     "base_uri": "https://localhost:8080/"
    },
    "executionInfo": {
     "elapsed": 200,
     "status": "ok",
     "timestamp": 1723098585486,
     "user": {
      "displayName": "Eric Li",
      "userId": "13636052086902037493"
     },
     "user_tz": 420
    },
    "id": "V7EgWT5jq_5n",
    "outputId": "1e7dd3be-fa9f-47af-a41f-732ccd6dc0bc"
   },
   "outputs": [
    {
     "name": "stdout",
     "output_type": "stream",
     "text": [
      "Chernobyl occured on Saturday, 26th of April 1986 at 01:23:40 MSD(UTC+04:00)\n"
     ]
    }
   ],
   "source": [
    "print(chernobyl.strftime(\"Chernobyl occured on %A, %dth of %B %Y at %X MSD(%Z)\"))"
   ]
  },
  {
   "cell_type": "markdown",
   "metadata": {
    "id": "Vku1OMZBrwY-"
   },
   "source": [
    "Alternatively, the information represented by `chernobyl.strftime(\"%Z\")` could also be written as `chernobyl.tzinfo`."
   ]
  },
  {
   "cell_type": "code",
   "execution_count": 16,
   "metadata": {
    "colab": {
     "base_uri": "https://localhost:8080/"
    },
    "executionInfo": {
     "elapsed": 230,
     "status": "ok",
     "timestamp": 1723099523330,
     "user": {
      "displayName": "Eric Li",
      "userId": "13636052086902037493"
     },
     "user_tz": 420
    },
    "id": "1Rf9sZgQrdfg",
    "outputId": "079b5130-943f-4d17-b04c-ad3c6c40b2ac"
   },
   "outputs": [
    {
     "name": "stdout",
     "output_type": "stream",
     "text": [
      "MSD can be written alternatively as UTC+04:00\n"
     ]
    }
   ],
   "source": [
    "print(\"MSD can be written alternatively as\", chernobyl.tzinfo)"
   ]
  },
  {
   "cell_type": "markdown",
   "metadata": {
    "id": "Yq6M71k1vK_b"
   },
   "source": [
    "## Working with datetimes' time object\n",
    "\n",
    "The `time` object from Python's `datetime` module is a versatile tool designed to handle and represent time without the complexities of a full date.\n",
    "\n",
    "It allows you to store and manipulate hours, minutes, seconds, and microseconds, making it extremely useful for situations in which one needs to focus more on time rather than dates.\n",
    "\n",
    " With methods for comparison, arithmetic, and formatting, the `time` object provides robust functionality for managing time-based data in a clear and concise manner."
   ]
  },
  {
   "cell_type": "code",
   "execution_count": 17,
   "metadata": {
    "colab": {
     "base_uri": "https://localhost:8080/"
    },
    "executionInfo": {
     "elapsed": 213,
     "status": "ok",
     "timestamp": 1723101749136,
     "user": {
      "displayName": "Eric Li",
      "userId": "13636052086902037493"
     },
     "user_tz": 420
    },
    "id": "OcIxhq5Xrp7I",
    "outputId": "db03f9cc-6f64-4fd6-917d-4b06a775ff9d"
   },
   "outputs": [
    {
     "name": "stdout",
     "output_type": "stream",
     "text": [
      "my_time is 15:33:08\n",
      "my_time2 is 15:33:08-07:00\n"
     ]
    }
   ],
   "source": [
    "from datetime import time\n",
    "\n",
    "\n",
    "my_time = time(15, 33, 8)\n",
    "my_time2 = time.fromisoformat(\"15:33:08-07:00\")\n",
    "\n",
    "\n",
    "print(\"my_time is\", my_time)\n",
    "print(\"my_time2 is\", my_time2)\n"
   ]
  },
  {
   "cell_type": "markdown",
   "metadata": {
    "id": "1EUGTyoU2JYv"
   },
   "source": [
    "## Converting Between 24 Hour Time to 12 Hour Time\n",
    "\n",
    "Let's take the `my_time` object that we have created and try to convert between the two different formats.\n",
    "\n",
    "The `%p` is a placeholder which indicates whether we are dealing with an AM time or PM time."
   ]
  },
  {
   "cell_type": "code",
   "execution_count": 18,
   "metadata": {
    "colab": {
     "base_uri": "https://localhost:8080/"
    },
    "executionInfo": {
     "elapsed": 169,
     "status": "ok",
     "timestamp": 1723101728409,
     "user": {
      "displayName": "Eric Li",
      "userId": "13636052086902037493"
     },
     "user_tz": 420
    },
    "id": "ltgcWAnwrs7R",
    "outputId": "d4b1cd2e-6c12-48f6-a6b6-5f8922791d54"
   },
   "outputs": [
    {
     "name": "stdout",
     "output_type": "stream",
     "text": [
      "03:33 PM\n"
     ]
    }
   ],
   "source": [
    "print(my_time2.strftime(\"%I:%M %p\"))"
   ]
  },
  {
   "cell_type": "markdown",
   "metadata": {
    "id": "x4MvXUsr3i4d"
   },
   "source": [
    "## Combining date Objects with time Objects to Create a datetime Object\n",
    "\n",
    "Combining `date` objects with `time` objects in the `datetime` module allows the user to create `datetime` objects.Such data can capture both the date and time elements in a single entity.\n",
    "\n",
    "This combination is particularly useful when one is trying to timestamp events where both the date and the exact time are crucial, such as logging activities or scheduling tasks.\n",
    "\n",
    "The resulting `datetime` objects offer extensive methods for manipulation, arithmetic, and formatting, making them indispensable for applications requiring detailed temporal data management."
   ]
  },
  {
   "cell_type": "code",
   "execution_count": 19,
   "metadata": {
    "colab": {
     "base_uri": "https://localhost:8080/"
    },
    "executionInfo": {
     "elapsed": 183,
     "status": "ok",
     "timestamp": 1723101856106,
     "user": {
      "displayName": "Eric Li",
      "userId": "13636052086902037493"
     },
     "user_tz": 420
    },
    "id": "8qnpZhYi31nj",
    "outputId": "28bf04a1-42a2-4827-baf0-ab4ed2f20fc2"
   },
   "outputs": [
    {
     "name": "stdout",
     "output_type": "stream",
     "text": [
      "my_datetime is 2010-01-10 15:33:08\n"
     ]
    }
   ],
   "source": [
    "my_date = date(2010, 1, 10)\n",
    "\n",
    "my_datetime = datetime.combine(my_date, my_time)\n",
    "\n",
    "print(\"my_datetime is\", my_datetime)"
   ]
  },
  {
   "cell_type": "code",
   "execution_count": null,
   "metadata": {},
   "outputs": [],
   "source": []
  }
 ],
 "metadata": {
  "colab": {
   "authorship_tag": "ABX9TyORBsepNhEJOfGCE3IQJFGT",
   "provenance": []
  },
  "kernelspec": {
   "display_name": "Python 3 (ipykernel)",
   "language": "python",
   "name": "python3"
  },
  "language_info": {
   "codemirror_mode": {
    "name": "ipython",
    "version": 3
   },
   "file_extension": ".py",
   "mimetype": "text/x-python",
   "name": "python",
   "nbconvert_exporter": "python",
   "pygments_lexer": "ipython3",
   "version": "3.10.0"
  }
 },
 "nbformat": 4,
 "nbformat_minor": 4
}