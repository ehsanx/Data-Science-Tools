{
 "cells": [
  {
   "cell_type": "markdown",
   "metadata": {
    "id": "Qi0v1zyzV5mj"
   },
   "source": [
    "# Module 8: File Names, Project Organization, Virtual Environments\n",
    "\n",
    "In this module, we take a look at the importance of setting up correct file names, project layout, and the benefits of utilizing virtual environments."
   ]
  },
  {
   "cell_type": "markdown",
   "metadata": {
    "id": "NGjPiow-71mC"
   },
   "source": [
    "## File Names\n",
    "\n",
    "When it comes to naming convetions, there exists a specific guideline that is to be followed.\n",
    "\n",
    "In particular, we have three main principles for effective file names.\n",
    "\n",
    "File names should be:\n",
    "1. Informative to humans and easy to read\n",
    "2. Interpretable by machines\n",
    "3. Accomodate a sense of ordering\n",
    "\n",
    "\n"
   ]
  },
  {
   "cell_type": "markdown",
   "metadata": {
    "id": "BbV65UZ__yau"
   },
   "source": [
    "## 1. Readable by Humans\n",
    "\n",
    "**Add example here**\n",
    "\n",
    "Filenames offer a chance to describe a file's contents, eliminating the need to open each file to determine its contents (which would be incredibly tedious!).\n",
    "\n",
    "Thus, it is crucial to write filenames that are easy for humans to interpret. Always aim to use filenames that reflect key aspects of the file's content.\n",
    "\n",
    "The informative part of a filename is often referred to as a \"slug.\" This term is also used for the last part of a URL, intended to be relevant to the webpage's content. A well-matched and readable slug increases the likelihood of clicks and mentions, and it aids search engines in identifying the webpage's content.\n"
   ]
  },
  {
   "cell_type": "markdown",
   "metadata": {
    "id": "DuIvAPHe714t"
   },
   "source": [
    "## 2. Readable by Machines\n",
    "\n",
    "It is crucial to use filenames that are both machine-friendly and consistent across files with similar or related content.\n",
    "\n",
    "For example, it is important to avoid spaces and punctuation in filenames. These characters often have special meanings in programming, so filenames containing them require special handling to prevent misinterpretation by scripts or the terminal.\n",
    "\n",
    "For example, `figure1-scatterplot-*-vs-&.png` is not an effective filename. It includes special characters, some of which (like `*`) have specific functions in the shell, making it difficult to work with and giving unwanted commands.\n",
    "\n",
    "The second name, `Figure 1 scatterplot of asterisks vs ampersands.png`, might seem suitable because it's easy to read and doesn't appear to contain special characters. But the problem lies in the fact that it contains spaces, which can be challenging to handle in languages like Python. It is recommended to use hyphens instead of spaces to separate words.\n",
    "\n",
    "Additionally, the filename should be easy for humans to read and descriptive of the file's contents. For example, `fig1_scatterplot-asterisks-vs-ampersands.png` addresses all these issues effectively.\n"
   ]
  },
  {
   "cell_type": "markdown",
   "metadata": {
    "id": "VVs4M9yq71_O"
   },
   "source": [
    "## 3. Plays well with Ordering\n",
    "\n",
    "Another helpful convention to consider is using filenames that are ordered in a preferable way by default. Depending on the context, we should practice several techniques: starting filenames with something numeric, left-padding numbers with zeros or displaying files in \"natural\" order, and using the YYYY-MM-DD format for dates. These practices ensure that files are organized logically and can be easily sorted and accessed when needed.\n",
    "\n",
    "As an example, let's consider three example files: `figure03.png`, `figure23.png`, and `figure3.png`.\n",
    "\n",
    "If we were to type `ls` in the terminal, the output would give\n",
    "\n",
    "```\n",
    "figure03.png\n",
    "figure23.png\n",
    "figure3.png\n",
    "\n",
    "```\n",
    "\n",
    "We can see how if we're not careful with our naming convention,\n",
    "`figure23.png` would come before `figure3.png`, even though 3 is a smaller number than 23. This is why we use leading zeros (evident in the example where\n",
    "`figure03.png` comes before `figure23.png`).\n",
    "\n",
    "Another option is to add the -v tag in ls, making the command `ls -v`. The `-v` tag represents the \"natural\" sort."
   ]
  },
  {
   "cell_type": "markdown",
   "metadata": {
    "id": "D6DtXHnShP18"
   },
   "source": [
    "## Project Organization\n",
    "\n",
    "Earlier in this module, we discussed how using certain filename conventions makes it easier to find relevant files. When it comes to organizing an entire project, it's even more crucial to structure files and folders in a logically accepted way. Maintaining a standard project structure offers several benefits:\n",
    "\n",
    "1. Well-organized code is self-documenting, making it easier to understand.\n",
    "2. A new collaborator can quickly locate specific components.\n",
    "3. Your future self will find it much simpler to reproduce your own results.\n",
    "\n",
    "Therefore, it's important to recognize that the code and data producing the end result are as significant as the final product itself. Since it's challenging to change your approach once you're halfway through a project, it's best to start with a standard project structure from the very beginning."
   ]
  },
  {
   "cell_type": "markdown",
   "metadata": {
    "id": "hRifCMq9hP40"
   },
   "source": [
    "## The Files & Folders in a Standard Project Structure\n",
    "\n",
    "The `.gitignore` file contains a list of files that should not be committed to your repository.\n",
    "\n",
    "The `README.md` file provides general explanations about the project.\n",
    "\n",
    "The `environment.yaml` file details the packages and libraries needed to reproduce the computational environment.\n",
    "\n",
    "The `data/` directory is designated for raw and processed data. Since data typically doesn't require version control, this folder can be included in the `.gitignore` file.\n",
    "\n",
    "The `docs/` directory holds project documentation, which can sometimes be generated automatically.\n",
    "\n",
    "Jupyter notebook files, used for exploration and communication, are stored in the `notebooks/` directory.\n",
    "\n",
    "Code files are usually kept in the `src/` directory, which can include subfolders as necessary."
   ]
  },
  {
   "cell_type": "markdown",
   "metadata": {
    "id": "j6Q9_PpdcSoB"
   },
   "source": [
    "## Virtual Environments\n",
    "\n",
    "To put it simply, virtual environments allow us to use different versions of packages on the same computer, instead of us having to uninstall then reinstall different versions of a particular package.\n",
    "\n",
    "The majority of the time, users work on many projects on their computer. This means the computational environments in which the projects operate within must be isolated from each other.\n",
    "\n",
    "With these isolated environments, allows for the pathway of reproducibility.  \n"
   ]
  },
  {
   "cell_type": "markdown",
   "metadata": {
    "id": "NgHby5s_sWiD"
   },
   "source": [
    "## Conda\n",
    "\n",
    "\n",
    "To create and use these virtual environments, we have a few options. `virtualenv`, `venv`, `pipenv`, and `conda` are just some notable examples.\n",
    "\n",
    "Conda in particular is a very popular open source package & environment management system for python."
   ]
  },
  {
   "cell_type": "markdown",
   "metadata": {
    "id": "IyGtZiRzs3KG"
   },
   "source": [
    "## Managing Conda Environments\n",
    "\n",
    "A Conda environment is a collection of packages that can be used for one or multiple projects. By using Conda environments, you can create an isolated Python environment tailored to your specific project.\n",
    "\n",
    "Major Benefits of Using Conda Environments:\n",
    "- Reproducibility: Ensures that others can reproduce your project by specifying the exact package versions you used, making it easy for them to install the same versions.\n",
    "- Manage Different Versions: Allows you to handle different versions of the same package across projects by installing them in separate environments.\n",
    "- Create Isolated Environments: Enables you to experiment with new packages without affecting the packages used for your data analysis, thus avoiding potential issues."
   ]
  },
  {
   "cell_type": "markdown",
   "metadata": {
    "id": "V7gvFoEitpyt"
   },
   "source": [
    "## Creating a Conda environment\n",
    "\n",
    "There are two different ways of setting up a Conda environment.\n",
    "\n",
    "The first method is to create the environment and install packages manually. These packages can be installed either at the time of environment creation or after creating the environment.\n",
    "\n",
    "The second method is to create the environment through a file in `.yaml` format."
   ]
  },
  {
   "cell_type": "markdown",
   "metadata": {
    "id": "eW9ca6-mxIcs"
   },
   "source": [
    "Let's take a look at an example code which creates a new environment called `test_env`.\n",
    "\n",
    "`conda create -n test_env`\n",
    "\n",
    "We can create a Conda environment named `test_env` by running the command `conda create -n test_env`. When you see the prompt `Proceed ([y]/n)?`, press Enter to continue.\n",
    "\n",
    "The `-n` in the command `conda create -n test_env` stands for \"name.\" It is used to specify the name of the new Conda environment you want to create. In this case, `test_env` is the name given to the new environment."
   ]
  },
  {
   "cell_type": "markdown",
   "metadata": {
    "id": "5ohAezaZxRhJ"
   },
   "source": [
    "It's also helpful to specify additional details when creating the environment, such as the channel for installing packages, the Python version, and a list of packages to include.\n",
    "\n",
    "In the example below, I am creating the test_env environment that uses Python 3.9, the latest version of jupyterlab, and pandas version 1.3.0.\n",
    "\n",
    "`conda create -n test_env python=3.9 jupyterlab pandas=1.3.0`"
   ]
  },
  {
   "cell_type": "markdown",
   "metadata": {
    "id": "2byR8YdYzN-9"
   },
   "source": [
    "## Activating a Conda Environment\n",
    "\n",
    "The default Conda environment is the base environment, which includes only the essential packages. In this environment, the shell's prompt string is prefixed with `(base)`.\n",
    "\n",
    "To activate the new environment we just created, type `conda activate test_env` (and `conda deactivate` to deactivate it).\n",
    "\n",
    "Notice how the prompt string prefix in your shell changes from `(base)` to `(test_env)`, indicating that the `test_env` environment is now active.\n",
    "\n",
    "To view all your environments, type `conda env list`.\n",
    "\n",
    "Lastly, the environment with an asterik (*) next to it denotes the current active one."
   ]
  }
 ],
 "metadata": {
  "colab": {
   "authorship_tag": "ABX9TyMqe+nEiGbfi6sfpnrleiQv",
   "provenance": [],
   "toc_visible": true
  },
  "kernelspec": {
   "display_name": "Python 3 (ipykernel)",
   "language": "python",
   "name": "python3"
  },
  "language_info": {
   "codemirror_mode": {
    "name": "ipython",
    "version": 3
   },
   "file_extension": ".py",
   "mimetype": "text/x-python",
   "name": "python",
   "nbconvert_exporter": "python",
   "pygments_lexer": "ipython3",
   "version": "3.10.0"
  }
 },
 "nbformat": 4,
 "nbformat_minor": 4
}
